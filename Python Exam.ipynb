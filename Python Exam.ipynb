{
 "cells": [
  {
   "cell_type": "markdown",
   "id": "eb31407a",
   "metadata": {},
   "source": [
    "<div align=\"center\" style=\" font-size: 80%; text-align: center; margin: 0 auto\">\n",
    "<img src=\"https://raw.githubusercontent.com/Explore-AI/Pictures/master/Python-Notebook-Banners/Code_challenge.png\"  style=\"display: block; margin-left: auto; margin-right: auto;\";/>\n",
    "</div>"
   ]
  },
  {
   "cell_type": "markdown",
   "id": "f662d169",
   "metadata": {},
   "source": [
    "# Python Exam\n",
    "© ExploreAI Academy"
   ]
  },
  {
   "cell_type": "markdown",
   "id": "26af890c",
   "metadata": {},
   "source": [
    "In this python exam we are diving into the Maji Ndogo MD agriculture CSV File and then load various codes to answer the provided questions and case scenarios."
   ]
  },
  {
   "cell_type": "markdown",
   "id": "8944ccbc",
   "metadata": {},
   "source": [
    "# Introduction"
   ]
  },
  {
   "cell_type": "markdown",
   "id": "147be850",
   "metadata": {},
   "source": [
    "# Data dictionary"
   ]
  },
  {
   "cell_type": "markdown",
   "id": "d7cca3f5",
   "metadata": {},
   "source": [
    "# Import the necessary modules(Panda, numpy, matplotlib, seaborn)"
   ]
  },
  {
   "cell_type": "code",
   "execution_count": 1,
   "id": "61ad9018",
   "metadata": {},
   "outputs": [],
   "source": [
    "import numpy as np\n",
    "import pandas as pd\n",
    "import matplotlib.pyplot as plt\n",
    "import seaborn as sns"
   ]
  },
  {
   "cell_type": "code",
   "execution_count": 23,
   "id": "9a0d4832",
   "metadata": {},
   "outputs": [
    {
     "name": "stdout",
     "output_type": "stream",
     "text": [
      "   Field_ID  Elevation  Rainfall  Min_temperature_C  Max_temperature_C  \\\n",
      "0      1162  494.95615    1507.6               -5.4               31.0   \n",
      "1      5108  663.73390     581.0               -4.7               30.9   \n",
      "2      3504  396.87990    1715.1               -6.1               31.7   \n",
      "3      5351  594.80370    1748.0               -4.3               33.6   \n",
      "4       905  609.49800    1395.8               -4.5               31.3   \n",
      "\n",
      "         pH  Pollution_level  Plot_size  Annual_yield Crop_type  \n",
      "0  6.859436         0.007034        3.6      1.617421    coffee  \n",
      "1  5.603219         0.289643        4.2      2.532497    potato  \n",
      "2  5.774116         0.000409        2.6      1.262207    banana  \n",
      "3  6.477415         0.088777        7.9      4.351564     wheat  \n",
      "4  5.419586         0.050023       10.8      5.034791   cassava  \n"
     ]
    }
   ],
   "source": [
    "import pandas as pd\n",
    "import sqlite3\n",
    "\n",
    "# Replace 'file_path' with the path to your CSV file\n",
    "file_path = r\"C:\\Users\\IT_MANGER\\Desktop\\python exam\\MD_agric_exam-4313.csv\"\n",
    "\n",
    "# Read the CSV file into a DataFrame\n",
    "df = pd.read_csv(file_path)\n",
    "\n",
    "# Establish a connection to an SQLite database (creates one if it doesn't exist)\n",
    "conn = sqlite3.connect('data.db')\n",
    "\n",
    "# Write the DataFrame to a table in the SQLite database\n",
    "df.to_sql('data_table', conn, index=False, if_exists='replace')\n",
    "\n",
    "# Now you can query the data using SQL\n",
    "# For example, to select the first few rows:\n",
    "query = \"SELECT * FROM data_table LIMIT 5;\"\n",
    "result = pd.read_sql(query, conn)\n",
    "print(result)\n",
    "\n",
    "# Don't forget to close the connection when you're done\n",
    "conn.close()\n"
   ]
  },
  {
   "cell_type": "markdown",
   "id": "9635e4e3",
   "metadata": {},
   "source": [
    "## The code below will display the number of the unique crop types in our DB"
   ]
  },
  {
   "cell_type": "code",
   "execution_count": 4,
   "id": "9f97b39b",
   "metadata": {},
   "outputs": [
    {
     "name": "stdout",
     "output_type": "stream",
     "text": [
      "Number of unique crop types: 8\n"
     ]
    }
   ],
   "source": [
    "import pandas as pd\n",
    "\n",
    "# Replace 'file_path' with the path to your CSV file\n",
    "file_path = r\"C:\\Users\\IT_MANGER\\Desktop\\python exam\\MD_agric_exam-4313.csv\"\n",
    "\n",
    "# Read the CSV file into a DataFrame\n",
    "df = pd.read_csv(file_path)\n",
    "\n",
    "# Assuming the column containing crop types is named 'crop_type'\n",
    "# You can adjust this according to the actual column name in your dataset\n",
    "unique_crop_types = df['Crop_type'].nunique()\n",
    "\n",
    "print(\"Number of unique crop types:\", unique_crop_types)\n"
   ]
  },
  {
   "cell_type": "markdown",
   "id": "65b801cd",
   "metadata": {},
   "source": [
    "## Identify the maximum annual yield for \"wheat\" crop type in the dataset (rounded to 2 decimal places)"
   ]
  },
  {
   "cell_type": "code",
   "execution_count": 6,
   "id": "6403906f",
   "metadata": {},
   "outputs": [
    {
     "name": "stdout",
     "output_type": "stream",
     "text": [
      "Maximum annual yield for wheat crop type: 8.99\n"
     ]
    }
   ],
   "source": [
    "import pandas as pd\n",
    "\n",
    "# Replace 'file_path' with the path to your CSV file\n",
    "file_path = r\"C:\\Users\\IT_MANGER\\Desktop\\python exam\\MD_agric_exam-4313.csv\"\n",
    "\n",
    "# Read the CSV file into a DataFrame\n",
    "df = pd.read_csv(file_path)\n",
    "\n",
    "# Assuming the column containing crop types is named 'CropType'\n",
    "# Assuming the column containing annual yield is named 'AnnualYield'\n",
    "# You can adjust these according to the actual column names in your dataset\n",
    "\n",
    "# Filter the DataFrame for rows where the crop type is \"wheat\"\n",
    "wheat_df = df[df['Crop_type'] == 'wheat']\n",
    "\n",
    "# Find the maximum annual yield for \"wheat\" crop type\n",
    "max_yield_wheat = wheat_df['Annual_yield'].max()\n",
    "\n",
    "# Print the maximum annual yield rounded to 2 decimal places\n",
    "print(\"Maximum annual yield for wheat crop type:\", round(max_yield_wheat, 2))\n"
   ]
  },
  {
   "cell_type": "markdown",
   "id": "f58033eb",
   "metadata": {},
   "source": [
    "## Find the total rainfall for crop types where the average pollution level is above 0.2."
   ]
  },
  {
   "cell_type": "code",
   "execution_count": 7,
   "id": "18eaf39e",
   "metadata": {},
   "outputs": [
    {
     "name": "stdout",
     "output_type": "stream",
     "text": [
      "Total rainfall for crop types where the average pollution level is above 0.2: 941959.7\n"
     ]
    }
   ],
   "source": [
    "import pandas as pd\n",
    "\n",
    "# Replace 'file_path' with the path to your CSV file\n",
    "file_path = r\"C:\\Users\\IT_MANGER\\Desktop\\python exam\\MD_agric_exam-4313.csv\"\n",
    "\n",
    "# Read the CSV file into a DataFrame\n",
    "df = pd.read_csv(file_path)\n",
    "\n",
    "# Assuming the column names for crop types, pollution levels, and rainfall\n",
    "# are 'CropType', 'PollutionLevel', and 'Rainfall' respectively\n",
    "# You can adjust these according to the actual column names in your dataset\n",
    "\n",
    "# Group by crop type and calculate the average pollution level for each crop type\n",
    "average_pollution = df.groupby('Crop_type')['Pollution_level'].mean()\n",
    "\n",
    "# Filter crop types where the average pollution level is above 0.2\n",
    "polluted_crop_types = average_pollution[average_pollution > 0.2].index\n",
    "\n",
    "# Filter the DataFrame for rows corresponding to polluted crop types\n",
    "polluted_df = df[df['Crop_type'].isin(polluted_crop_types)]\n",
    "\n",
    "# Calculate the total rainfall for the filtered crop types\n",
    "total_rainfall = polluted_df['Rainfall'].sum()\n",
    "\n",
    "print(\"Total rainfall for crop types where the average pollution level is above 0.2:\", total_rainfall)\n"
   ]
  },
  {
   "cell_type": "markdown",
   "id": "7894dab5",
   "metadata": {},
   "source": [
    "## Write a function to calculate the temperature range (Max_temperature_C - Min_temperature_C) for each farmer's field. Then, call the function with the following `Field_ID`: `1458`, `1895`, and `5443`. What are the results of these 3 calls?"
   ]
  },
  {
   "cell_type": "code",
   "execution_count": 8,
   "id": "e91e7337",
   "metadata": {},
   "outputs": [
    {
     "name": "stdout",
     "output_type": "stream",
     "text": [
      "Temperature range for Field_ID 1458: 40.7\n",
      "Temperature range for Field_ID 1895: 35.7\n",
      "Temperature range for Field_ID 5443: 33.4\n"
     ]
    }
   ],
   "source": [
    "import pandas as pd\n",
    "\n",
    "# Define the function to calculate temperature range for a given Field_ID\n",
    "def calculate_temperature_range(df, field_id):\n",
    "    # Filter the DataFrame for rows corresponding to the given Field_ID\n",
    "    field_data = df[df['Field_ID'] == field_id]\n",
    "    \n",
    "    # Calculate the temperature range (Max_temperature_C - Min_temperature_C)\n",
    "    temperature_range = field_data['Max_temperature_C'].max() - field_data['Min_temperature_C'].min()\n",
    "    \n",
    "    return temperature_range\n",
    "\n",
    "# Replace 'file_path' with the path to your CSV file\n",
    "file_path = r\"C:\\Users\\IT_MANGER\\Desktop\\python exam\\MD_agric_exam-4313.csv\"\n",
    "\n",
    "# Read the CSV file into a DataFrame\n",
    "df = pd.read_csv(file_path)\n",
    "\n",
    "# Call the function with Field_IDs: 1458, 1895, and 5443\n",
    "field_1458_range = calculate_temperature_range(df, 1458)\n",
    "field_1895_range = calculate_temperature_range(df, 1895)\n",
    "field_5443_range = calculate_temperature_range(df, 5443)\n",
    "\n",
    "# Print the results\n",
    "print(\"Temperature range for Field_ID 1458:\", field_1458_range)\n",
    "print(\"Temperature range for Field_ID 1895:\", field_1895_range)\n",
    "print(\"Temperature range for Field_ID 5443:\", field_5443_range)\n"
   ]
  },
  {
   "cell_type": "markdown",
   "id": "c8178803",
   "metadata": {},
   "source": [
    "## Run given code to determine the output"
   ]
  },
  {
   "cell_type": "code",
   "execution_count": 13,
   "id": "2c31aa88",
   "metadata": {},
   "outputs": [
    {
     "name": "stdout",
     "output_type": "stream",
     "text": [
      "rice\n"
     ]
    }
   ],
   "source": [
    "import pandas as pd\n",
    "\n",
    "# Replace 'file_path' with the path to your CSV file\n",
    "file_path = r\"C:\\Users\\IT_MANGER\\Desktop\\python exam\\MD_agric_exam-4313.csv\"\n",
    "\n",
    "# Read the CSV file into a DataFrame\n",
    "data = pd.read_csv(file_path)\n",
    "\n",
    "a = data['Crop_type'].unique()\n",
    "b = float('inf')\n",
    "c = ''\n",
    "\n",
    "for crop in a:\n",
    "\n",
    "    d = data[data['Crop_type'] == crop]['Min_temperature_C'].mean()\n",
    "\n",
    "    if d < b:\n",
    "\n",
    "        b = d\n",
    "\n",
    "        c = crop\n",
    "\n",
    "print(c)\n",
    "## The code above identifies the unique crop type with the lowest minimum temperature"
   ]
  },
  {
   "cell_type": "markdown",
   "id": "a82262ae",
   "metadata": {},
   "source": [
    "## calculate the total plot size for plots where the pH is less than 5.5."
   ]
  },
  {
   "cell_type": "code",
   "execution_count": 15,
   "id": "bcec3013",
   "metadata": {},
   "outputs": [
    {
     "name": "stdout",
     "output_type": "stream",
     "text": [
      "Total plot size for plots where pH is less than 5.5: 1731.8999999999999\n"
     ]
    }
   ],
   "source": [
    "import pandas as pd\n",
    "\n",
    "# Load your data into a DataFrame (replace 'file_path' with the actual path to your CSV file)\n",
    "file_path = r\"C:\\Users\\IT_MANGER\\Desktop\\python exam\\MD_agric_exam-4313.csv\"\n",
    "data = pd.read_csv(file_path)\n",
    "\n",
    "# Filter the DataFrame for rows where pH is less than 5.5\n",
    "filtered_data = data[data['pH'] < 5.5]\n",
    "\n",
    "# Calculate the total plot size for the filtered rows\n",
    "total_plot_size = filtered_data['Plot_size'].sum()\n",
    "\n",
    "print(\"Total plot size for plots where pH is less than 5.5:\", total_plot_size)\n"
   ]
  },
  {
   "cell_type": "markdown",
   "id": "66f0ceeb",
   "metadata": {},
   "source": [
    "## Using Pandas, create a dataframe that includes entries with a 'Min_temperature_C’< -5 and a 'Max_temperature_C' > 30. How many rows are in the filtered dataset?"
   ]
  },
  {
   "cell_type": "code",
   "execution_count": 16,
   "id": "a27384da",
   "metadata": {},
   "outputs": [
    {
     "name": "stdout",
     "output_type": "stream",
     "text": [
      "Number of rows in the filtered dataset: 319\n"
     ]
    }
   ],
   "source": [
    "import pandas as pd\n",
    "\n",
    "# Load your data into a DataFrame (replace 'file_path' with the actual path to your CSV file)\n",
    "file_path = r\"C:\\Users\\IT_MANGER\\Desktop\\python exam\\MD_agric_exam-4313.csv\"\n",
    "data = pd.read_csv(file_path)\n",
    "\n",
    "# Filter the DataFrame for entries with 'Min_temperature_C' < -5 and 'Max_temperature_C' > 30\n",
    "filtered_data = data[(data['Min_temperature_C'] < -5) & (data['Max_temperature_C'] > 30)]\n",
    "\n",
    "# Count the number of rows in the filtered dataset\n",
    "num_rows_filtered = len(filtered_data)\n",
    "\n",
    "print(\"Number of rows in the filtered dataset:\", num_rows_filtered)\n"
   ]
  },
  {
   "cell_type": "markdown",
   "id": "9cb01ba2",
   "metadata": {},
   "source": [
    "## Using Numpy, calculate the standard deviation of the 'Rainfall' for plots where the 'Plot_size' is larger than the median plot size of the dataset (round to 2 decimal places)."
   ]
  },
  {
   "cell_type": "code",
   "execution_count": 17,
   "id": "01fd17d1",
   "metadata": {},
   "outputs": [
    {
     "name": "stdout",
     "output_type": "stream",
     "text": [
      "Standard deviation of Rainfall for plots where Plot_size is larger than the median plot size: 469.62\n"
     ]
    }
   ],
   "source": [
    "import numpy as np\n",
    "import pandas as pd\n",
    "\n",
    "# Load your data into a DataFrame (replace 'file_path' with the actual path to your CSV file)\n",
    "file_path = r\"C:\\Users\\IT_MANGER\\Desktop\\python exam\\MD_agric_exam-4313.csv\"\n",
    "data = pd.read_csv(file_path)\n",
    "\n",
    "# Calculate the median plot size\n",
    "median_plot_size = np.median(data['Plot_size'])\n",
    "\n",
    "# Filter the DataFrame for plots where 'Plot_size' is larger than the median plot size\n",
    "filtered_data = data[data['Plot_size'] > median_plot_size]\n",
    "\n",
    "# Calculate the standard deviation of the 'Rainfall' for the filtered dataset\n",
    "std_dev_rainfall = np.std(filtered_data['Rainfall'])\n",
    "\n",
    "# Round the standard deviation to 2 decimal places\n",
    "std_dev_rainfall_rounded = round(std_dev_rainfall, 2)\n",
    "\n",
    "print(\"Standard deviation of Rainfall for plots where Plot_size is larger than the median plot size:\",\n",
    "      std_dev_rainfall_rounded)\n"
   ]
  },
  {
   "cell_type": "markdown",
   "id": "c5583e14",
   "metadata": {},
   "source": [
    "## concatenate the first three digits of the most common ‘Max_temperature_C’ with the last three letters of the least common 'Crop_type', "
   ]
  },
  {
   "cell_type": "code",
   "execution_count": 18,
   "id": "0c1f857f",
   "metadata": {},
   "outputs": [
    {
     "name": "stdout",
     "output_type": "stream",
     "text": [
      "Result: 30.ice\n"
     ]
    }
   ],
   "source": [
    "import pandas as pd\n",
    "\n",
    "# Load your data into a DataFrame (replace 'file_path' with the actual path to your CSV file)\n",
    "file_path = r\"C:\\Users\\IT_MANGER\\Desktop\\python exam\\MD_agric_exam-4313.csv\"\n",
    "data = pd.read_csv(file_path)\n",
    "\n",
    "# Find the most common 'Max_temperature_C' (use the first mode if there are multiple modes)\n",
    "most_common_max_temp = data['Max_temperature_C'].mode().iloc[0]\n",
    "\n",
    "# Find the least common 'Crop_type'\n",
    "least_common_crop_type = data['Crop_type'].value_counts().idxmin()\n",
    "\n",
    "# Extraction of the first three digits of the most common 'Max_temperature_C'\n",
    "first_three_digits = str(most_common_max_temp)[:3]\n",
    "\n",
    "# Extraction of the last three letters of the least common Croptype\n",
    "last_three_letters = least_common_crop_type[-3:]\n",
    "\n",
    "# Concatenation of the strings\n",
    "result_string = first_three_digits + last_three_letters\n",
    "\n",
    "print(\"Result:\", result_string)\n"
   ]
  },
  {
   "cell_type": "markdown",
   "id": "42bb1f80",
   "metadata": {},
   "source": [
    "# Write Python code to create a violin plot visualising the distribution of 'Annual_yield' across different 'Elevation' ranges. Use the provided elevation range categories (Low: < 300m, Medium: 300m - 600m, High: > 600m) to categorise the data before plotting.  Examine the violin plot displaying the distribution of 'Annual Yield' across three elevation categories (Low, Medium, High). What insight does the violin plot provide regarding the relationship between elevation ranges and annual yield distribution?"
   ]
  },
  {
   "cell_type": "code",
   "execution_count": 19,
   "id": "29eceb47",
   "metadata": {},
   "outputs": [
    {
     "data": {
      "image/png": "[encoded data removed]",
      "text/plain": [
       "<Figure size 1000x600 with 1 Axes>"
      ]
     },
     "metadata": {},
     "output_type": "display_data"
    }
   ],
   "source": [
    "import pandas as pd\n",
    "import seaborn as sns\n",
    "import matplotlib.pyplot as plt\n",
    "\n",
    "# Load the data into a DataFrame replacing the'file_path' with the actual path to my CSV file)\n",
    "file_path = r\"C:\\Users\\IT_MANGER\\Desktop\\python exam\\MD_agric_exam-4313.csv\"\n",
    "data = pd.read_csv(file_path)\n",
    "\n",
    "# The code below will categorize the 'Elevation' into Low, Medium, and High categories as requested.\n",
    "data['Elevation_Category'] = pd.cut(data['Elevation'],\n",
    "                                    bins=[-float('inf'), 300, 600, float('inf')],\n",
    "                                    labels=['Low', 'Medium', 'High'])\n",
    "\n",
    "# The code will create the violin plots\n",
    "plt.figure(figsize=(10, 6))\n",
    "sns.violinplot(x='Elevation_Category', y='Annual_yield', data=data)\n",
    "plt.title('Distribution of Annual Yield Across Different Elevation Ranges')\n",
    "plt.xlabel('Elevation Range')\n",
    "plt.ylabel('Annual Yield')\n",
    "plt.show()\n"
   ]
  },
  {
   "cell_type": "markdown",
   "id": "a5c13c4c",
   "metadata": {},
   "source": []
  },
  {
   "cell_type": "markdown",
   "id": "cdba7188",
   "metadata": {},
   "source": [
    "## Assuming each 'Crop_type' contributes an integer value equal to its length (e.g., 'wheat' contributes 5), write a recursive function to sum the integer values for each unique crop type in the dataset. What is the sum?"
   ]
  },
  {
   "cell_type": "code",
   "execution_count": 20,
   "id": "a461a7aa",
   "metadata": {},
   "outputs": [
    {
     "name": "stdout",
     "output_type": "stream",
     "text": [
      "Total sum of integer values for each unique crop type: 42\n"
     ]
    }
   ],
   "source": [
    "import pandas as pd\n",
    "\n",
    "# Load your data into a DataFrame (replace 'file_path' with the actual path to your CSV file)\n",
    "file_path = r\"C:\\Users\\IT_MANGER\\Desktop\\python exam\\MD_agric_exam-4313.csv\"\n",
    "data = pd.read_csv(file_path)\n",
    "\n",
    "# Get the unique crop types from the dataset and calculate the length of each\n",
    "lengths = [len(crop_type) for crop_type in data['Crop_type'].unique()]\n",
    "\n",
    "# Calculate the total sum of lengths\n",
    "total_sum = sum(lengths)\n",
    "\n",
    "print(\"Total sum of integer values for each unique crop type:\", total_sum)\n"
   ]
  },
  {
   "cell_type": "markdown",
   "id": "dfb51c69",
   "metadata": {},
   "source": [
    "This code defines a recursive function sum_crop_type_lengths that takes a list of unique crop types as input and recursively calculates the sum of the lengths of these crop type strings. It then calls this function with the unique crop types from the dataset and prints out the total sum."
   ]
  },
  {
   "cell_type": "markdown",
   "id": "1fd19850",
   "metadata": {},
   "source": [
    "## Write Python code to perform a t-test comparing the average 'Annual_yield' between 'coffee' and 'banana' crop types using scipy.stats. What is the p-value, rounded to three decimal places?"
   ]
  },
  {
   "cell_type": "code",
   "execution_count": 24,
   "id": "8d8be657",
   "metadata": {},
   "outputs": [
    {
     "name": "stdout",
     "output_type": "stream",
     "text": [
      "P-value: 0.598\n"
     ]
    }
   ],
   "source": [
    "import pandas as pd\n",
    "from scipy.stats import ttest_ind\n",
    "\n",
    "# Load your data into a DataFrame (replace 'file_path' with the actual path to your CSV file)\n",
    "file_path = r\"C:\\Users\\IT_MANGER\\Desktop\\python exam\\MD_agric_exam-4313.csv\"\n",
    "data = pd.read_csv(file_path)\n",
    "\n",
    "# Filter the DataFrame for 'coffee' and 'banana' crop types\n",
    "coffee_data = data[data['Crop_type'] == 'coffee']['Annual_yield']\n",
    "banana_data = data[data['Crop_type'] == 'banana']['Annual_yield']\n",
    "\n",
    "# Perform t-test\n",
    "t_statistic, p_value = ttest_ind(coffee_data, banana_data)\n",
    "\n",
    "# Print the p-value rounded to three decimal places\n",
    "print(\"P-value:\", round(p_value, 3))\n"
   ]
  },
  {
   "cell_type": "markdown",
   "id": "63b561fa",
   "metadata": {},
   "source": [
    "This code performs a t-test using ttest_ind from scipy.stats, which compares the average 'Annual_yield' between 'coffee' and 'banana' crop types. The p-value obtained indicates the significance of the difference in means between the two groups. We print the p-value rounded to three decimal places as requested."
   ]
  }
 ],
 "metadata": {
  "kernelspec": {
   "display_name": "Python 3 (ipykernel)",
   "language": "python",
   "name": "python3"
  },
  "language_info": {
   "codemirror_mode": {
    "name": "ipython",
    "version": 3
   },
   "file_extension": ".py",
   "mimetype": "text/x-python",
   "name": "python",
   "nbconvert_exporter": "python",
   "pygments_lexer": "ipython3",
   "version": "3.11.5"
  }
 },
 "nbformat": 4,
 "nbformat_minor": 5
}
